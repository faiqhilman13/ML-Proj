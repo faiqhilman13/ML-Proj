{
 "cells": [
  {
   "cell_type": "code",
   "execution_count": 1,
   "id": "52f7cb6b",
   "metadata": {},
   "outputs": [],
   "source": [
    "import pandas as pd\n",
    "import numpy as np\n",
    "import matplotlib.pyplot as plt\n",
    "import seaborn as sns\n"
   ]
  },
  {
   "cell_type": "code",
   "execution_count": 2,
   "id": "fa596deb",
   "metadata": {},
   "outputs": [
    {
     "data": {
      "text/html": [
       "<div>\n",
       "<style scoped>\n",
       "    .dataframe tbody tr th:only-of-type {\n",
       "        vertical-align: middle;\n",
       "    }\n",
       "\n",
       "    .dataframe tbody tr th {\n",
       "        vertical-align: top;\n",
       "    }\n",
       "\n",
       "    .dataframe thead th {\n",
       "        text-align: right;\n",
       "    }\n",
       "</style>\n",
       "<table border=\"1\" class=\"dataframe\">\n",
       "  <thead>\n",
       "    <tr style=\"text-align: right;\">\n",
       "      <th></th>\n",
       "      <th>Pregnancies</th>\n",
       "      <th>Glucose</th>\n",
       "      <th>BloodPressure</th>\n",
       "      <th>SkinThickness</th>\n",
       "      <th>Insulin</th>\n",
       "      <th>BMI</th>\n",
       "      <th>DiabetesPedigreeFunction</th>\n",
       "      <th>Age</th>\n",
       "      <th>Outcome</th>\n",
       "    </tr>\n",
       "  </thead>\n",
       "  <tbody>\n",
       "    <tr>\n",
       "      <th>0</th>\n",
       "      <td>6</td>\n",
       "      <td>148</td>\n",
       "      <td>72</td>\n",
       "      <td>35</td>\n",
       "      <td>0</td>\n",
       "      <td>33.6</td>\n",
       "      <td>0.627</td>\n",
       "      <td>50</td>\n",
       "      <td>1</td>\n",
       "    </tr>\n",
       "    <tr>\n",
       "      <th>1</th>\n",
       "      <td>1</td>\n",
       "      <td>85</td>\n",
       "      <td>66</td>\n",
       "      <td>29</td>\n",
       "      <td>0</td>\n",
       "      <td>26.6</td>\n",
       "      <td>0.351</td>\n",
       "      <td>31</td>\n",
       "      <td>0</td>\n",
       "    </tr>\n",
       "    <tr>\n",
       "      <th>2</th>\n",
       "      <td>8</td>\n",
       "      <td>183</td>\n",
       "      <td>64</td>\n",
       "      <td>0</td>\n",
       "      <td>0</td>\n",
       "      <td>23.3</td>\n",
       "      <td>0.672</td>\n",
       "      <td>32</td>\n",
       "      <td>1</td>\n",
       "    </tr>\n",
       "    <tr>\n",
       "      <th>3</th>\n",
       "      <td>1</td>\n",
       "      <td>89</td>\n",
       "      <td>66</td>\n",
       "      <td>23</td>\n",
       "      <td>94</td>\n",
       "      <td>28.1</td>\n",
       "      <td>0.167</td>\n",
       "      <td>21</td>\n",
       "      <td>0</td>\n",
       "    </tr>\n",
       "    <tr>\n",
       "      <th>4</th>\n",
       "      <td>0</td>\n",
       "      <td>137</td>\n",
       "      <td>40</td>\n",
       "      <td>35</td>\n",
       "      <td>168</td>\n",
       "      <td>43.1</td>\n",
       "      <td>2.288</td>\n",
       "      <td>33</td>\n",
       "      <td>1</td>\n",
       "    </tr>\n",
       "    <tr>\n",
       "      <th>...</th>\n",
       "      <td>...</td>\n",
       "      <td>...</td>\n",
       "      <td>...</td>\n",
       "      <td>...</td>\n",
       "      <td>...</td>\n",
       "      <td>...</td>\n",
       "      <td>...</td>\n",
       "      <td>...</td>\n",
       "      <td>...</td>\n",
       "    </tr>\n",
       "    <tr>\n",
       "      <th>763</th>\n",
       "      <td>10</td>\n",
       "      <td>101</td>\n",
       "      <td>76</td>\n",
       "      <td>48</td>\n",
       "      <td>180</td>\n",
       "      <td>32.9</td>\n",
       "      <td>0.171</td>\n",
       "      <td>63</td>\n",
       "      <td>0</td>\n",
       "    </tr>\n",
       "    <tr>\n",
       "      <th>764</th>\n",
       "      <td>2</td>\n",
       "      <td>122</td>\n",
       "      <td>70</td>\n",
       "      <td>27</td>\n",
       "      <td>0</td>\n",
       "      <td>36.8</td>\n",
       "      <td>0.340</td>\n",
       "      <td>27</td>\n",
       "      <td>0</td>\n",
       "    </tr>\n",
       "    <tr>\n",
       "      <th>765</th>\n",
       "      <td>5</td>\n",
       "      <td>121</td>\n",
       "      <td>72</td>\n",
       "      <td>23</td>\n",
       "      <td>112</td>\n",
       "      <td>26.2</td>\n",
       "      <td>0.245</td>\n",
       "      <td>30</td>\n",
       "      <td>0</td>\n",
       "    </tr>\n",
       "    <tr>\n",
       "      <th>766</th>\n",
       "      <td>1</td>\n",
       "      <td>126</td>\n",
       "      <td>60</td>\n",
       "      <td>0</td>\n",
       "      <td>0</td>\n",
       "      <td>30.1</td>\n",
       "      <td>0.349</td>\n",
       "      <td>47</td>\n",
       "      <td>1</td>\n",
       "    </tr>\n",
       "    <tr>\n",
       "      <th>767</th>\n",
       "      <td>1</td>\n",
       "      <td>93</td>\n",
       "      <td>70</td>\n",
       "      <td>31</td>\n",
       "      <td>0</td>\n",
       "      <td>30.4</td>\n",
       "      <td>0.315</td>\n",
       "      <td>23</td>\n",
       "      <td>0</td>\n",
       "    </tr>\n",
       "  </tbody>\n",
       "</table>\n",
       "<p>768 rows × 9 columns</p>\n",
       "</div>"
      ],
      "text/plain": [
       "     Pregnancies  Glucose  BloodPressure  SkinThickness  Insulin   BMI  \\\n",
       "0              6      148             72             35        0  33.6   \n",
       "1              1       85             66             29        0  26.6   \n",
       "2              8      183             64              0        0  23.3   \n",
       "3              1       89             66             23       94  28.1   \n",
       "4              0      137             40             35      168  43.1   \n",
       "..           ...      ...            ...            ...      ...   ...   \n",
       "763           10      101             76             48      180  32.9   \n",
       "764            2      122             70             27        0  36.8   \n",
       "765            5      121             72             23      112  26.2   \n",
       "766            1      126             60              0        0  30.1   \n",
       "767            1       93             70             31        0  30.4   \n",
       "\n",
       "     DiabetesPedigreeFunction  Age  Outcome  \n",
       "0                       0.627   50        1  \n",
       "1                       0.351   31        0  \n",
       "2                       0.672   32        1  \n",
       "3                       0.167   21        0  \n",
       "4                       2.288   33        1  \n",
       "..                        ...  ...      ...  \n",
       "763                     0.171   63        0  \n",
       "764                     0.340   27        0  \n",
       "765                     0.245   30        0  \n",
       "766                     0.349   47        1  \n",
       "767                     0.315   23        0  \n",
       "\n",
       "[768 rows x 9 columns]"
      ]
     },
     "execution_count": 2,
     "metadata": {},
     "output_type": "execute_result"
    }
   ],
   "source": [
    "df = pd.read_csv(\"diabetes(1).csv\")\n",
    "df"
   ]
  },
  {
   "cell_type": "code",
   "execution_count": 3,
   "id": "89f25e2c",
   "metadata": {},
   "outputs": [
    {
     "data": {
      "text/html": [
       "<div>\n",
       "<style scoped>\n",
       "    .dataframe tbody tr th:only-of-type {\n",
       "        vertical-align: middle;\n",
       "    }\n",
       "\n",
       "    .dataframe tbody tr th {\n",
       "        vertical-align: top;\n",
       "    }\n",
       "\n",
       "    .dataframe thead th {\n",
       "        text-align: right;\n",
       "    }\n",
       "</style>\n",
       "<table border=\"1\" class=\"dataframe\">\n",
       "  <thead>\n",
       "    <tr style=\"text-align: right;\">\n",
       "      <th></th>\n",
       "      <th>Pregnancies</th>\n",
       "      <th>Glucose</th>\n",
       "      <th>BloodPressure</th>\n",
       "      <th>SkinThickness</th>\n",
       "      <th>Insulin</th>\n",
       "      <th>BMI</th>\n",
       "      <th>DiabetesPedigreeFunction</th>\n",
       "      <th>Age</th>\n",
       "      <th>Outcome</th>\n",
       "    </tr>\n",
       "  </thead>\n",
       "  <tbody>\n",
       "    <tr>\n",
       "      <th>count</th>\n",
       "      <td>768.000000</td>\n",
       "      <td>768.000000</td>\n",
       "      <td>768.000000</td>\n",
       "      <td>768.000000</td>\n",
       "      <td>768.000000</td>\n",
       "      <td>768.000000</td>\n",
       "      <td>768.000000</td>\n",
       "      <td>768.000000</td>\n",
       "      <td>768.000000</td>\n",
       "    </tr>\n",
       "    <tr>\n",
       "      <th>mean</th>\n",
       "      <td>3.845052</td>\n",
       "      <td>120.894531</td>\n",
       "      <td>69.105469</td>\n",
       "      <td>20.536458</td>\n",
       "      <td>79.799479</td>\n",
       "      <td>31.992578</td>\n",
       "      <td>0.471876</td>\n",
       "      <td>33.240885</td>\n",
       "      <td>0.348958</td>\n",
       "    </tr>\n",
       "    <tr>\n",
       "      <th>std</th>\n",
       "      <td>3.369578</td>\n",
       "      <td>31.972618</td>\n",
       "      <td>19.355807</td>\n",
       "      <td>15.952218</td>\n",
       "      <td>115.244002</td>\n",
       "      <td>7.884160</td>\n",
       "      <td>0.331329</td>\n",
       "      <td>11.760232</td>\n",
       "      <td>0.476951</td>\n",
       "    </tr>\n",
       "    <tr>\n",
       "      <th>min</th>\n",
       "      <td>0.000000</td>\n",
       "      <td>0.000000</td>\n",
       "      <td>0.000000</td>\n",
       "      <td>0.000000</td>\n",
       "      <td>0.000000</td>\n",
       "      <td>0.000000</td>\n",
       "      <td>0.078000</td>\n",
       "      <td>21.000000</td>\n",
       "      <td>0.000000</td>\n",
       "    </tr>\n",
       "    <tr>\n",
       "      <th>25%</th>\n",
       "      <td>1.000000</td>\n",
       "      <td>99.000000</td>\n",
       "      <td>62.000000</td>\n",
       "      <td>0.000000</td>\n",
       "      <td>0.000000</td>\n",
       "      <td>27.300000</td>\n",
       "      <td>0.243750</td>\n",
       "      <td>24.000000</td>\n",
       "      <td>0.000000</td>\n",
       "    </tr>\n",
       "    <tr>\n",
       "      <th>50%</th>\n",
       "      <td>3.000000</td>\n",
       "      <td>117.000000</td>\n",
       "      <td>72.000000</td>\n",
       "      <td>23.000000</td>\n",
       "      <td>30.500000</td>\n",
       "      <td>32.000000</td>\n",
       "      <td>0.372500</td>\n",
       "      <td>29.000000</td>\n",
       "      <td>0.000000</td>\n",
       "    </tr>\n",
       "    <tr>\n",
       "      <th>75%</th>\n",
       "      <td>6.000000</td>\n",
       "      <td>140.250000</td>\n",
       "      <td>80.000000</td>\n",
       "      <td>32.000000</td>\n",
       "      <td>127.250000</td>\n",
       "      <td>36.600000</td>\n",
       "      <td>0.626250</td>\n",
       "      <td>41.000000</td>\n",
       "      <td>1.000000</td>\n",
       "    </tr>\n",
       "    <tr>\n",
       "      <th>max</th>\n",
       "      <td>17.000000</td>\n",
       "      <td>199.000000</td>\n",
       "      <td>122.000000</td>\n",
       "      <td>99.000000</td>\n",
       "      <td>846.000000</td>\n",
       "      <td>67.100000</td>\n",
       "      <td>2.420000</td>\n",
       "      <td>81.000000</td>\n",
       "      <td>1.000000</td>\n",
       "    </tr>\n",
       "  </tbody>\n",
       "</table>\n",
       "</div>"
      ],
      "text/plain": [
       "       Pregnancies     Glucose  BloodPressure  SkinThickness     Insulin  \\\n",
       "count   768.000000  768.000000     768.000000     768.000000  768.000000   \n",
       "mean      3.845052  120.894531      69.105469      20.536458   79.799479   \n",
       "std       3.369578   31.972618      19.355807      15.952218  115.244002   \n",
       "min       0.000000    0.000000       0.000000       0.000000    0.000000   \n",
       "25%       1.000000   99.000000      62.000000       0.000000    0.000000   \n",
       "50%       3.000000  117.000000      72.000000      23.000000   30.500000   \n",
       "75%       6.000000  140.250000      80.000000      32.000000  127.250000   \n",
       "max      17.000000  199.000000     122.000000      99.000000  846.000000   \n",
       "\n",
       "              BMI  DiabetesPedigreeFunction         Age     Outcome  \n",
       "count  768.000000                768.000000  768.000000  768.000000  \n",
       "mean    31.992578                  0.471876   33.240885    0.348958  \n",
       "std      7.884160                  0.331329   11.760232    0.476951  \n",
       "min      0.000000                  0.078000   21.000000    0.000000  \n",
       "25%     27.300000                  0.243750   24.000000    0.000000  \n",
       "50%     32.000000                  0.372500   29.000000    0.000000  \n",
       "75%     36.600000                  0.626250   41.000000    1.000000  \n",
       "max     67.100000                  2.420000   81.000000    1.000000  "
      ]
     },
     "execution_count": 3,
     "metadata": {},
     "output_type": "execute_result"
    }
   ],
   "source": [
    "df.describe()"
   ]
  },
  {
   "cell_type": "code",
   "execution_count": 4,
   "id": "b818d81e",
   "metadata": {},
   "outputs": [],
   "source": [
    "corr = df.corr()"
   ]
  },
  {
   "cell_type": "code",
   "execution_count": 5,
   "id": "b2b79dd2",
   "metadata": {},
   "outputs": [
    {
     "data": {
      "text/plain": [
       "<AxesSubplot:>"
      ]
     },
     "execution_count": 5,
     "metadata": {},
     "output_type": "execute_result"
    },
    {
     "data": {
      "image/png": "[encoded data removed]",
      "text/plain": [
       "<Figure size 432x288 with 2 Axes>"
      ]
     },
     "metadata": {
      "needs_background": "light"
     },
     "output_type": "display_data"
    }
   ],
   "source": [
    "sns.heatmap(corr, \n",
    "        xticklabels=corr.columns,\n",
    "        yticklabels=corr.columns, cmap=\"Purples\")"
   ]
  },
  {
   "cell_type": "code",
   "execution_count": 6,
   "id": "97efef32",
   "metadata": {},
   "outputs": [
    {
     "name": "stderr",
     "output_type": "stream",
     "text": [
      "C:\\Users\\Faiq Hilman\\AppData\\Local\\Temp\\ipykernel_30796\\1938361647.py:15: FutureWarning: this method is deprecated in favour of `Styler.format(precision=..)`\n",
      "  corr.style.background_gradient(cmap = \"Purples\", axis=1)\\\n"
     ]
    },
    {
     "data": {
      "text/html": [
       "<style type=\"text/css\">\n",
       "#T_41b1c th {\n",
       "  font-size: 7pt;\n",
       "}\n",
       "#T_41b1c td {\n",
       "  padding: 0em 0em;\n",
       "}\n",
       "#T_41b1c th:hover {\n",
       "  font-size: 12pt;\n",
       "}\n",
       "#T_41b1c tr:hover td:hover {\n",
       "  max-width: 200px;\n",
       "  font-size: 12pt;\n",
       "}\n",
       "#T_41b1c_row0_col0, #T_41b1c_row1_col1, #T_41b1c_row2_col2, #T_41b1c_row3_col3, #T_41b1c_row4_col4, #T_41b1c_row5_col5, #T_41b1c_row6_col6, #T_41b1c_row7_col7, #T_41b1c_row8_col8 {\n",
       "  background-color: #3f007d;\n",
       "  color: #f1f1f1;\n",
       "  max-width: 80px;\n",
       "  font-size: 10pt;\n",
       "}\n",
       "#T_41b1c_row0_col1, #T_41b1c_row4_col8 {\n",
       "  background-color: #e4e3f0;\n",
       "  color: #000000;\n",
       "  max-width: 80px;\n",
       "  font-size: 10pt;\n",
       "}\n",
       "#T_41b1c_row0_col2, #T_41b1c_row2_col7 {\n",
       "  background-color: #e2e1ef;\n",
       "  color: #000000;\n",
       "  max-width: 80px;\n",
       "  font-size: 10pt;\n",
       "}\n",
       "#T_41b1c_row0_col3, #T_41b1c_row0_col4, #T_41b1c_row1_col3, #T_41b1c_row2_col6, #T_41b1c_row3_col7, #T_41b1c_row4_col0, #T_41b1c_row5_col0, #T_41b1c_row6_col0, #T_41b1c_row7_col3, #T_41b1c_row8_col2 {\n",
       "  background-color: #fcfbfd;\n",
       "  color: #000000;\n",
       "  max-width: 80px;\n",
       "  font-size: 10pt;\n",
       "}\n",
       "#T_41b1c_row0_col5 {\n",
       "  background-color: #f3f1f7;\n",
       "  color: #000000;\n",
       "  max-width: 80px;\n",
       "  font-size: 10pt;\n",
       "}\n",
       "#T_41b1c_row0_col6 {\n",
       "  background-color: #f8f6fa;\n",
       "  color: #000000;\n",
       "  max-width: 80px;\n",
       "  font-size: 10pt;\n",
       "}\n",
       "#T_41b1c_row0_col7 {\n",
       "  background-color: #8b87bf;\n",
       "  color: #f1f1f1;\n",
       "  max-width: 80px;\n",
       "  font-size: 10pt;\n",
       "}\n",
       "#T_41b1c_row0_col8, #T_41b1c_row5_col8 {\n",
       "  background-color: #d3d3e8;\n",
       "  color: #000000;\n",
       "  max-width: 80px;\n",
       "  font-size: 10pt;\n",
       "}\n",
       "#T_41b1c_row1_col0 {\n",
       "  background-color: #f4f3f8;\n",
       "  color: #000000;\n",
       "  max-width: 80px;\n",
       "  font-size: 10pt;\n",
       "}\n",
       "#T_41b1c_row1_col2 {\n",
       "  background-color: #f2f0f7;\n",
       "  color: #000000;\n",
       "  max-width: 80px;\n",
       "  font-size: 10pt;\n",
       "}\n",
       "#T_41b1c_row1_col4 {\n",
       "  background-color: #d0d1e6;\n",
       "  color: #000000;\n",
       "  max-width: 80px;\n",
       "  font-size: 10pt;\n",
       "}\n",
       "#T_41b1c_row1_col5, #T_41b1c_row2_col3 {\n",
       "  background-color: #e7e6f1;\n",
       "  color: #000000;\n",
       "  max-width: 80px;\n",
       "  font-size: 10pt;\n",
       "}\n",
       "#T_41b1c_row1_col6 {\n",
       "  background-color: #f3f2f8;\n",
       "  color: #000000;\n",
       "  max-width: 80px;\n",
       "  font-size: 10pt;\n",
       "}\n",
       "#T_41b1c_row1_col7 {\n",
       "  background-color: #e0dfee;\n",
       "  color: #000000;\n",
       "  max-width: 80px;\n",
       "  font-size: 10pt;\n",
       "}\n",
       "#T_41b1c_row1_col8 {\n",
       "  background-color: #aeacd2;\n",
       "  color: #000000;\n",
       "  max-width: 80px;\n",
       "  font-size: 10pt;\n",
       "}\n",
       "#T_41b1c_row2_col0 {\n",
       "  background-color: #f1f0f6;\n",
       "  color: #000000;\n",
       "  max-width: 80px;\n",
       "  font-size: 10pt;\n",
       "}\n",
       "#T_41b1c_row2_col1, #T_41b1c_row8_col6 {\n",
       "  background-color: #f0eef6;\n",
       "  color: #000000;\n",
       "  max-width: 80px;\n",
       "  font-size: 10pt;\n",
       "}\n",
       "#T_41b1c_row2_col4 {\n",
       "  background-color: #f7f6fa;\n",
       "  color: #000000;\n",
       "  max-width: 80px;\n",
       "  font-size: 10pt;\n",
       "}\n",
       "#T_41b1c_row2_col5, #T_41b1c_row4_col5 {\n",
       "  background-color: #dadaeb;\n",
       "  color: #000000;\n",
       "  max-width: 80px;\n",
       "  font-size: 10pt;\n",
       "}\n",
       "#T_41b1c_row2_col8 {\n",
       "  background-color: #faf8fb;\n",
       "  color: #000000;\n",
       "  max-width: 80px;\n",
       "  font-size: 10pt;\n",
       "}\n",
       "#T_41b1c_row3_col0, #T_41b1c_row4_col7 {\n",
       "  background-color: #f9f8fb;\n",
       "  color: #000000;\n",
       "  max-width: 80px;\n",
       "  font-size: 10pt;\n",
       "}\n",
       "#T_41b1c_row3_col1 {\n",
       "  background-color: #eae9f3;\n",
       "  color: #000000;\n",
       "  max-width: 80px;\n",
       "  font-size: 10pt;\n",
       "}\n",
       "#T_41b1c_row3_col2 {\n",
       "  background-color: #d1d2e7;\n",
       "  color: #000000;\n",
       "  max-width: 80px;\n",
       "  font-size: 10pt;\n",
       "}\n",
       "#T_41b1c_row3_col4 {\n",
       "  background-color: #9f9cc9;\n",
       "  color: #f1f1f1;\n",
       "  max-width: 80px;\n",
       "  font-size: 10pt;\n",
       "}\n",
       "#T_41b1c_row3_col5 {\n",
       "  background-color: #a9a7cf;\n",
       "  color: #f1f1f1;\n",
       "  max-width: 80px;\n",
       "  font-size: 10pt;\n",
       "}\n",
       "#T_41b1c_row3_col6, #T_41b1c_row5_col2 {\n",
       "  background-color: #d6d6e9;\n",
       "  color: #000000;\n",
       "  max-width: 80px;\n",
       "  font-size: 10pt;\n",
       "}\n",
       "#T_41b1c_row3_col8, #T_41b1c_row6_col5 {\n",
       "  background-color: #e8e6f2;\n",
       "  color: #000000;\n",
       "  max-width: 80px;\n",
       "  font-size: 10pt;\n",
       "}\n",
       "#T_41b1c_row4_col1 {\n",
       "  background-color: #bcbddc;\n",
       "  color: #000000;\n",
       "  max-width: 80px;\n",
       "  font-size: 10pt;\n",
       "}\n",
       "#T_41b1c_row4_col2 {\n",
       "  background-color: #ebe9f3;\n",
       "  color: #000000;\n",
       "  max-width: 80px;\n",
       "  font-size: 10pt;\n",
       "}\n",
       "#T_41b1c_row4_col3 {\n",
       "  background-color: #a4a1cc;\n",
       "  color: #f1f1f1;\n",
       "  max-width: 80px;\n",
       "  font-size: 10pt;\n",
       "}\n",
       "#T_41b1c_row4_col6 {\n",
       "  background-color: #dcdcec;\n",
       "  color: #000000;\n",
       "  max-width: 80px;\n",
       "  font-size: 10pt;\n",
       "}\n",
       "#T_41b1c_row5_col1, #T_41b1c_row6_col3 {\n",
       "  background-color: #e1e0ee;\n",
       "  color: #000000;\n",
       "  max-width: 80px;\n",
       "  font-size: 10pt;\n",
       "}\n",
       "#T_41b1c_row5_col3 {\n",
       "  background-color: #bbbbdb;\n",
       "  color: #000000;\n",
       "  max-width: 80px;\n",
       "  font-size: 10pt;\n",
       "}\n",
       "#T_41b1c_row5_col4 {\n",
       "  background-color: #e6e5f1;\n",
       "  color: #000000;\n",
       "  max-width: 80px;\n",
       "  font-size: 10pt;\n",
       "}\n",
       "#T_41b1c_row5_col6 {\n",
       "  background-color: #efedf5;\n",
       "  color: #000000;\n",
       "  max-width: 80px;\n",
       "  font-size: 10pt;\n",
       "}\n",
       "#T_41b1c_row5_col7 {\n",
       "  background-color: #faf9fc;\n",
       "  color: #000000;\n",
       "  max-width: 80px;\n",
       "  font-size: 10pt;\n",
       "}\n",
       "#T_41b1c_row6_col1, #T_41b1c_row8_col0 {\n",
       "  background-color: #e8e7f2;\n",
       "  color: #000000;\n",
       "  max-width: 80px;\n",
       "  font-size: 10pt;\n",
       "}\n",
       "#T_41b1c_row6_col2 {\n",
       "  background-color: #f5f3f8;\n",
       "  color: #000000;\n",
       "  max-width: 80px;\n",
       "  font-size: 10pt;\n",
       "}\n",
       "#T_41b1c_row6_col4 {\n",
       "  background-color: #e0e0ee;\n",
       "  color: #000000;\n",
       "  max-width: 80px;\n",
       "  font-size: 10pt;\n",
       "}\n",
       "#T_41b1c_row6_col7, #T_41b1c_row7_col4, #T_41b1c_row8_col4 {\n",
       "  background-color: #f5f4f9;\n",
       "  color: #000000;\n",
       "  max-width: 80px;\n",
       "  font-size: 10pt;\n",
       "}\n",
       "#T_41b1c_row6_col8 {\n",
       "  background-color: #e2e2ef;\n",
       "  color: #000000;\n",
       "  max-width: 80px;\n",
       "  font-size: 10pt;\n",
       "}\n",
       "#T_41b1c_row7_col0 {\n",
       "  background-color: #8885be;\n",
       "  color: #f1f1f1;\n",
       "  max-width: 80px;\n",
       "  font-size: 10pt;\n",
       "}\n",
       "#T_41b1c_row7_col1 {\n",
       "  background-color: #c5c6e1;\n",
       "  color: #000000;\n",
       "  max-width: 80px;\n",
       "  font-size: 10pt;\n",
       "}\n",
       "#T_41b1c_row7_col2 {\n",
       "  background-color: #cacae3;\n",
       "  color: #000000;\n",
       "  max-width: 80px;\n",
       "  font-size: 10pt;\n",
       "}\n",
       "#T_41b1c_row7_col5 {\n",
       "  background-color: #eeecf4;\n",
       "  color: #000000;\n",
       "  max-width: 80px;\n",
       "  font-size: 10pt;\n",
       "}\n",
       "#T_41b1c_row7_col6 {\n",
       "  background-color: #eeecf5;\n",
       "  color: #000000;\n",
       "  max-width: 80px;\n",
       "  font-size: 10pt;\n",
       "}\n",
       "#T_41b1c_row7_col8 {\n",
       "  background-color: #cbcbe3;\n",
       "  color: #000000;\n",
       "  max-width: 80px;\n",
       "  font-size: 10pt;\n",
       "}\n",
       "#T_41b1c_row8_col1 {\n",
       "  background-color: #afaed4;\n",
       "  color: #000000;\n",
       "  max-width: 80px;\n",
       "  font-size: 10pt;\n",
       "}\n",
       "#T_41b1c_row8_col3 {\n",
       "  background-color: #fbfafc;\n",
       "  color: #000000;\n",
       "  max-width: 80px;\n",
       "  font-size: 10pt;\n",
       "}\n",
       "#T_41b1c_row8_col5 {\n",
       "  background-color: #dbdbec;\n",
       "  color: #000000;\n",
       "  max-width: 80px;\n",
       "  font-size: 10pt;\n",
       "}\n",
       "#T_41b1c_row8_col7 {\n",
       "  background-color: #e5e4f0;\n",
       "  color: #000000;\n",
       "  max-width: 80px;\n",
       "  font-size: 10pt;\n",
       "}\n",
       "</style>\n",
       "<table id=\"T_41b1c\">\n",
       "  <caption>Hover to magify</caption>\n",
       "  <thead>\n",
       "    <tr>\n",
       "      <th class=\"blank level0\" >&nbsp;</th>\n",
       "      <th id=\"T_41b1c_level0_col0\" class=\"col_heading level0 col0\" >Pregnancies</th>\n",
       "      <th id=\"T_41b1c_level0_col1\" class=\"col_heading level0 col1\" >Glucose</th>\n",
       "      <th id=\"T_41b1c_level0_col2\" class=\"col_heading level0 col2\" >BloodPressure</th>\n",
       "      <th id=\"T_41b1c_level0_col3\" class=\"col_heading level0 col3\" >SkinThickness</th>\n",
       "      <th id=\"T_41b1c_level0_col4\" class=\"col_heading level0 col4\" >Insulin</th>\n",
       "      <th id=\"T_41b1c_level0_col5\" class=\"col_heading level0 col5\" >BMI</th>\n",
       "      <th id=\"T_41b1c_level0_col6\" class=\"col_heading level0 col6\" >DiabetesPedigreeFunction</th>\n",
       "      <th id=\"T_41b1c_level0_col7\" class=\"col_heading level0 col7\" >Age</th>\n",
       "      <th id=\"T_41b1c_level0_col8\" class=\"col_heading level0 col8\" >Outcome</th>\n",
       "    </tr>\n",
       "  </thead>\n",
       "  <tbody>\n",
       "    <tr>\n",
       "      <th id=\"T_41b1c_level0_row0\" class=\"row_heading level0 row0\" >Pregnancies</th>\n",
       "      <td id=\"T_41b1c_row0_col0\" class=\"data row0 col0\" >1.00</td>\n",
       "      <td id=\"T_41b1c_row0_col1\" class=\"data row0 col1\" >0.13</td>\n",
       "      <td id=\"T_41b1c_row0_col2\" class=\"data row0 col2\" >0.14</td>\n",
       "      <td id=\"T_41b1c_row0_col3\" class=\"data row0 col3\" >-0.08</td>\n",
       "      <td id=\"T_41b1c_row0_col4\" class=\"data row0 col4\" >-0.07</td>\n",
       "      <td id=\"T_41b1c_row0_col5\" class=\"data row0 col5\" >0.02</td>\n",
       "      <td id=\"T_41b1c_row0_col6\" class=\"data row0 col6\" >-0.03</td>\n",
       "      <td id=\"T_41b1c_row0_col7\" class=\"data row0 col7\" >0.54</td>\n",
       "      <td id=\"T_41b1c_row0_col8\" class=\"data row0 col8\" >0.22</td>\n",
       "    </tr>\n",
       "    <tr>\n",
       "      <th id=\"T_41b1c_level0_row1\" class=\"row_heading level0 row1\" >Glucose</th>\n",
       "      <td id=\"T_41b1c_row1_col0\" class=\"data row1 col0\" >0.13</td>\n",
       "      <td id=\"T_41b1c_row1_col1\" class=\"data row1 col1\" >1.00</td>\n",
       "      <td id=\"T_41b1c_row1_col2\" class=\"data row1 col2\" >0.15</td>\n",
       "      <td id=\"T_41b1c_row1_col3\" class=\"data row1 col3\" >0.06</td>\n",
       "      <td id=\"T_41b1c_row1_col4\" class=\"data row1 col4\" >0.33</td>\n",
       "      <td id=\"T_41b1c_row1_col5\" class=\"data row1 col5\" >0.22</td>\n",
       "      <td id=\"T_41b1c_row1_col6\" class=\"data row1 col6\" >0.14</td>\n",
       "      <td id=\"T_41b1c_row1_col7\" class=\"data row1 col7\" >0.26</td>\n",
       "      <td id=\"T_41b1c_row1_col8\" class=\"data row1 col8\" >0.47</td>\n",
       "    </tr>\n",
       "    <tr>\n",
       "      <th id=\"T_41b1c_level0_row2\" class=\"row_heading level0 row2\" >BloodPressure</th>\n",
       "      <td id=\"T_41b1c_row2_col0\" class=\"data row2 col0\" >0.14</td>\n",
       "      <td id=\"T_41b1c_row2_col1\" class=\"data row2 col1\" >0.15</td>\n",
       "      <td id=\"T_41b1c_row2_col2\" class=\"data row2 col2\" >1.00</td>\n",
       "      <td id=\"T_41b1c_row2_col3\" class=\"data row2 col3\" >0.21</td>\n",
       "      <td id=\"T_41b1c_row2_col4\" class=\"data row2 col4\" >0.09</td>\n",
       "      <td id=\"T_41b1c_row2_col5\" class=\"data row2 col5\" >0.28</td>\n",
       "      <td id=\"T_41b1c_row2_col6\" class=\"data row2 col6\" >0.04</td>\n",
       "      <td id=\"T_41b1c_row2_col7\" class=\"data row2 col7\" >0.24</td>\n",
       "      <td id=\"T_41b1c_row2_col8\" class=\"data row2 col8\" >0.07</td>\n",
       "    </tr>\n",
       "    <tr>\n",
       "      <th id=\"T_41b1c_level0_row3\" class=\"row_heading level0 row3\" >SkinThickness</th>\n",
       "      <td id=\"T_41b1c_row3_col0\" class=\"data row3 col0\" >-0.08</td>\n",
       "      <td id=\"T_41b1c_row3_col1\" class=\"data row3 col1\" >0.06</td>\n",
       "      <td id=\"T_41b1c_row3_col2\" class=\"data row3 col2\" >0.21</td>\n",
       "      <td id=\"T_41b1c_row3_col3\" class=\"data row3 col3\" >1.00</td>\n",
       "      <td id=\"T_41b1c_row3_col4\" class=\"data row3 col4\" >0.44</td>\n",
       "      <td id=\"T_41b1c_row3_col5\" class=\"data row3 col5\" >0.39</td>\n",
       "      <td id=\"T_41b1c_row3_col6\" class=\"data row3 col6\" >0.18</td>\n",
       "      <td id=\"T_41b1c_row3_col7\" class=\"data row3 col7\" >-0.11</td>\n",
       "      <td id=\"T_41b1c_row3_col8\" class=\"data row3 col8\" >0.07</td>\n",
       "    </tr>\n",
       "    <tr>\n",
       "      <th id=\"T_41b1c_level0_row4\" class=\"row_heading level0 row4\" >Insulin</th>\n",
       "      <td id=\"T_41b1c_row4_col0\" class=\"data row4 col0\" >-0.07</td>\n",
       "      <td id=\"T_41b1c_row4_col1\" class=\"data row4 col1\" >0.33</td>\n",
       "      <td id=\"T_41b1c_row4_col2\" class=\"data row4 col2\" >0.09</td>\n",
       "      <td id=\"T_41b1c_row4_col3\" class=\"data row4 col3\" >0.44</td>\n",
       "      <td id=\"T_41b1c_row4_col4\" class=\"data row4 col4\" >1.00</td>\n",
       "      <td id=\"T_41b1c_row4_col5\" class=\"data row4 col5\" >0.20</td>\n",
       "      <td id=\"T_41b1c_row4_col6\" class=\"data row4 col6\" >0.19</td>\n",
       "      <td id=\"T_41b1c_row4_col7\" class=\"data row4 col7\" >-0.04</td>\n",
       "      <td id=\"T_41b1c_row4_col8\" class=\"data row4 col8\" >0.13</td>\n",
       "    </tr>\n",
       "    <tr>\n",
       "      <th id=\"T_41b1c_level0_row5\" class=\"row_heading level0 row5\" >BMI</th>\n",
       "      <td id=\"T_41b1c_row5_col0\" class=\"data row5 col0\" >0.02</td>\n",
       "      <td id=\"T_41b1c_row5_col1\" class=\"data row5 col1\" >0.22</td>\n",
       "      <td id=\"T_41b1c_row5_col2\" class=\"data row5 col2\" >0.28</td>\n",
       "      <td id=\"T_41b1c_row5_col3\" class=\"data row5 col3\" >0.39</td>\n",
       "      <td id=\"T_41b1c_row5_col4\" class=\"data row5 col4\" >0.20</td>\n",
       "      <td id=\"T_41b1c_row5_col5\" class=\"data row5 col5\" >1.00</td>\n",
       "      <td id=\"T_41b1c_row5_col6\" class=\"data row5 col6\" >0.14</td>\n",
       "      <td id=\"T_41b1c_row5_col7\" class=\"data row5 col7\" >0.04</td>\n",
       "      <td id=\"T_41b1c_row5_col8\" class=\"data row5 col8\" >0.29</td>\n",
       "    </tr>\n",
       "    <tr>\n",
       "      <th id=\"T_41b1c_level0_row6\" class=\"row_heading level0 row6\" >DiabetesPedigreeFunction</th>\n",
       "      <td id=\"T_41b1c_row6_col0\" class=\"data row6 col0\" >-0.03</td>\n",
       "      <td id=\"T_41b1c_row6_col1\" class=\"data row6 col1\" >0.14</td>\n",
       "      <td id=\"T_41b1c_row6_col2\" class=\"data row6 col2\" >0.04</td>\n",
       "      <td id=\"T_41b1c_row6_col3\" class=\"data row6 col3\" >0.18</td>\n",
       "      <td id=\"T_41b1c_row6_col4\" class=\"data row6 col4\" >0.19</td>\n",
       "      <td id=\"T_41b1c_row6_col5\" class=\"data row6 col5\" >0.14</td>\n",
       "      <td id=\"T_41b1c_row6_col6\" class=\"data row6 col6\" >1.00</td>\n",
       "      <td id=\"T_41b1c_row6_col7\" class=\"data row6 col7\" >0.03</td>\n",
       "      <td id=\"T_41b1c_row6_col8\" class=\"data row6 col8\" >0.17</td>\n",
       "    </tr>\n",
       "    <tr>\n",
       "      <th id=\"T_41b1c_level0_row7\" class=\"row_heading level0 row7\" >Age</th>\n",
       "      <td id=\"T_41b1c_row7_col0\" class=\"data row7 col0\" >0.54</td>\n",
       "      <td id=\"T_41b1c_row7_col1\" class=\"data row7 col1\" >0.26</td>\n",
       "      <td id=\"T_41b1c_row7_col2\" class=\"data row7 col2\" >0.24</td>\n",
       "      <td id=\"T_41b1c_row7_col3\" class=\"data row7 col3\" >-0.11</td>\n",
       "      <td id=\"T_41b1c_row7_col4\" class=\"data row7 col4\" >-0.04</td>\n",
       "      <td id=\"T_41b1c_row7_col5\" class=\"data row7 col5\" >0.04</td>\n",
       "      <td id=\"T_41b1c_row7_col6\" class=\"data row7 col6\" >0.03</td>\n",
       "      <td id=\"T_41b1c_row7_col7\" class=\"data row7 col7\" >1.00</td>\n",
       "      <td id=\"T_41b1c_row7_col8\" class=\"data row7 col8\" >0.24</td>\n",
       "    </tr>\n",
       "    <tr>\n",
       "      <th id=\"T_41b1c_level0_row8\" class=\"row_heading level0 row8\" >Outcome</th>\n",
       "      <td id=\"T_41b1c_row8_col0\" class=\"data row8 col0\" >0.22</td>\n",
       "      <td id=\"T_41b1c_row8_col1\" class=\"data row8 col1\" >0.47</td>\n",
       "      <td id=\"T_41b1c_row8_col2\" class=\"data row8 col2\" >0.07</td>\n",
       "      <td id=\"T_41b1c_row8_col3\" class=\"data row8 col3\" >0.07</td>\n",
       "      <td id=\"T_41b1c_row8_col4\" class=\"data row8 col4\" >0.13</td>\n",
       "      <td id=\"T_41b1c_row8_col5\" class=\"data row8 col5\" >0.29</td>\n",
       "      <td id=\"T_41b1c_row8_col6\" class=\"data row8 col6\" >0.17</td>\n",
       "      <td id=\"T_41b1c_row8_col7\" class=\"data row8 col7\" >0.24</td>\n",
       "      <td id=\"T_41b1c_row8_col8\" class=\"data row8 col8\" >1.00</td>\n",
       "    </tr>\n",
       "  </tbody>\n",
       "</table>\n"
      ],
      "text/plain": [
       "<pandas.io.formats.style.Styler at 0x1e35d21d130>"
      ]
     },
     "execution_count": 6,
     "metadata": {},
     "output_type": "execute_result"
    }
   ],
   "source": [
    "cmap = cmap=sns.diverging_palette(5, 250, as_cmap=True)\n",
    "\n",
    "def magnify():\n",
    "    return [dict(selector=\"th\",\n",
    "                 props=[(\"font-size\", \"7pt\")]),\n",
    "            dict(selector=\"td\",\n",
    "                 props=[('padding', \"0em 0em\")]),\n",
    "            dict(selector=\"th:hover\",\n",
    "                 props=[(\"font-size\", \"12pt\")]),\n",
    "            dict(selector=\"tr:hover td:hover\",\n",
    "                 props=[('max-width', '200px'),\n",
    "                        ('font-size', '12pt')])\n",
    "]\n",
    "\n",
    "corr.style.background_gradient(cmap = \"Purples\", axis=1)\\\n",
    "    .set_properties(**{'max-width': '80px', 'font-size': '10pt'})\\\n",
    "    .set_caption(\"Hover to magify\")\\\n",
    "    .set_precision(2)\\\n",
    "    .set_table_styles(magnify())"
   ]
  },
  {
   "cell_type": "code",
   "execution_count": 7,
   "id": "4b85c30c",
   "metadata": {},
   "outputs": [
    {
     "name": "stdout",
     "output_type": "stream",
     "text": [
      "Outcome                     1.000000\n",
      "Glucose                     0.466581\n",
      "BMI                         0.292695\n",
      "Age                         0.238356\n",
      "Pregnancies                 0.221898\n",
      "DiabetesPedigreeFunction    0.173844\n",
      "Insulin                     0.130548\n",
      "SkinThickness               0.074752\n",
      "BloodPressure               0.065068\n",
      "Name: Outcome, dtype: float64 \n",
      "\n"
     ]
    }
   ],
   "source": [
    "numeric_features = df.select_dtypes(include=[np.number])\n",
    "corr = numeric_features.corr()\n",
    "print (corr['Outcome'].sort_values(ascending=False)[:9], '\\n')"
   ]
  },
  {
   "cell_type": "code",
   "execution_count": 8,
   "id": "43107315",
   "metadata": {},
   "outputs": [
    {
     "data": {
      "text/plain": [
       "Text(0.5, 1.0, 'Glucose')"
      ]
     },
     "execution_count": 8,
     "metadata": {},
     "output_type": "execute_result"
    },
    {
     "data": {
      "image/png": "[encoded data removed]",
      "text/plain": [
       "<Figure size 432x288 with 2 Axes>"
      ]
     },
     "metadata": {
      "needs_background": "light"
     },
     "output_type": "display_data"
    }
   ],
   "source": [
    "f, (ax1, ax2) = plt.subplots(1,2)\n",
    "ax1.boxplot(df['Pregnancies'], 20)\n",
    "ax1.set_title('Pregnancies')\n",
    "ax2.boxplot(df['Glucose'], 20)\n",
    "ax2.set_title('Glucose')\n",
    "\n"
   ]
  },
  {
   "cell_type": "code",
   "execution_count": 9,
   "id": "0e47cf2d",
   "metadata": {},
   "outputs": [
    {
     "data": {
      "text/plain": [
       "Text(0.5, 1.0, 'SkinThickness')"
      ]
     },
     "execution_count": 9,
     "metadata": {},
     "output_type": "execute_result"
    },
    {
     "data": {
      "image/png": "[encoded data removed]",
      "text/plain": [
       "<Figure size 432x288 with 2 Axes>"
      ]
     },
     "metadata": {
      "needs_background": "light"
     },
     "output_type": "display_data"
    }
   ],
   "source": [
    "f, (ax3, ax4) = plt.subplots(1,2)\n",
    "ax3.boxplot(df['BloodPressure'], 20)\n",
    "ax3.set_title('BloodPressure')\n",
    "ax4.boxplot(df['SkinThickness'], 20)\n",
    "ax4.set_title('SkinThickness')\n"
   ]
  },
  {
   "cell_type": "code",
   "execution_count": 10,
   "id": "2161fe6c",
   "metadata": {},
   "outputs": [
    {
     "data": {
      "text/plain": [
       "Text(0.5, 1.0, 'BMI')"
      ]
     },
     "execution_count": 10,
     "metadata": {},
     "output_type": "execute_result"
    },
    {
     "data": {
      "image/png": "[encoded data removed]",
      "text/plain": [
       "<Figure size 432x288 with 2 Axes>"
      ]
     },
     "metadata": {
      "needs_background": "light"
     },
     "output_type": "display_data"
    }
   ],
   "source": [
    "f, (ax5, ax6) = plt.subplots(1,2)\n",
    "ax5.boxplot(df['Insulin'], 20)\n",
    "ax5.set_title('Insulin')\n",
    "ax6.boxplot(df['BMI'], 20)\n",
    "ax6.set_title('BMI')\n"
   ]
  },
  {
   "cell_type": "code",
   "execution_count": 11,
   "id": "53ac617d",
   "metadata": {},
   "outputs": [
    {
     "data": {
      "image/png": "[encoded data removed]",
      "text/plain": [
       "<Figure size 432x288 with 2 Axes>"
      ]
     },
     "metadata": {
      "needs_background": "light"
     },
     "output_type": "display_data"
    }
   ],
   "source": [
    "f, (ax7, ax8) = plt.subplots(1,2)\n",
    "ax7.boxplot(df['DiabetesPedigreeFunction'], 20)\n",
    "ax7.set_title('DiabetesPedigreeFunction')\n",
    "ax8.boxplot(df['Age'], 20, )\n",
    "ax8.set_title('Age')\n",
    "plt.show()"
   ]
  },
  {
   "cell_type": "code",
   "execution_count": 12,
   "id": "d906aa25",
   "metadata": {},
   "outputs": [
    {
     "name": "stdout",
     "output_type": "stream",
     "text": [
      "Count of zeros in column  Pregnancies  is :  111\n",
      "Count of zeros in column  Glucose  is :  5\n",
      "Count of zeros in column  BloodPressure  is :  35\n",
      "Count of zeros in column  SkinThickness  is :  227\n",
      "Count of zeros in column  Insulin  is :  374\n",
      "Count of zeros in column  BMI  is :  11\n",
      "Count of zeros in column  DiabetesPedigreeFunction  is :  0\n",
      "Count of zeros in column  Age  is :  0\n",
      "Count of zeros in column  Outcome  is :  500\n"
     ]
    }
   ],
   "source": [
    "for column_name in df.columns:\n",
    "    column = df[column_name]\n",
    "    # Get the count of Zeros in column \n",
    "    count = (column == 0).sum()\n",
    "    print('Count of zeros in column ', column_name, ' is : ', count)"
   ]
  },
  {
   "cell_type": "code",
   "execution_count": 13,
   "id": "c667a5a2",
   "metadata": {},
   "outputs": [
    {
     "data": {
      "text/plain": [
       "<AxesSubplot:xlabel='Outcome', ylabel='count'>"
      ]
     },
     "execution_count": 13,
     "metadata": {},
     "output_type": "execute_result"
    },
    {
     "data": {
      "image/png": "[encoded data removed]",
      "text/plain": [
       "<Figure size 432x288 with 1 Axes>"
      ]
     },
     "metadata": {
      "needs_background": "light"
     },
     "output_type": "display_data"
    }
   ],
   "source": [
    "sns.countplot(x=df[\"Outcome\"])"
   ]
  },
  {
   "cell_type": "code",
   "execution_count": 14,
   "id": "6a867618",
   "metadata": {},
   "outputs": [],
   "source": [
    "x = df[\"Glucose\"]\n",
    "y = df[\"Outcome\"]\n",
    "\n"
   ]
  },
  {
   "cell_type": "code",
   "execution_count": 15,
   "id": "b5a0e290",
   "metadata": {},
   "outputs": [],
   "source": [
    "from sklearn.linear_model import LogisticRegression\n",
    "from sklearn.metrics import classification_report, confusion_matrix\n",
    "from sklearn.model_selection import train_test_split"
   ]
  },
  {
   "cell_type": "code",
   "execution_count": 16,
   "id": "4004d4dc",
   "metadata": {},
   "outputs": [],
   "source": [
    "import matplotlib.pyplot as plt\n",
    "import numpy as np\n",
    "import pandas as pd\n",
    "from sklearn.linear_model import LogisticRegression\n",
    "from sklearn.metrics import classification_report, confusion_matrix\n",
    "data = pd.read_csv('diabetes(1).csv')\n",
    "x = pd.DataFrame(data['Glucose'])\n",
    "y = data['Outcome']\n",
    "lr = LogisticRegression()\n",
    "lr.fit(x,y)\n",
    "p_pred = lr.predict_proba(x)\n",
    "y_pred = lr.predict(x)\n",
    "score_ = lr.score(x,y)\n",
    "conf_m = confusion_matrix(y,y_pred)\n",
    "report = classification_report(y,y_pred)\n"
   ]
  },
  {
   "cell_type": "code",
   "execution_count": 17,
   "id": "75797719",
   "metadata": {},
   "outputs": [
    {
     "name": "stdout",
     "output_type": "stream",
     "text": [
      "0.74609375\n",
      "[[443  57]\n",
      " [138 130]]\n"
     ]
    }
   ],
   "source": [
    "print(score_)\n",
    "print(conf_m)"
   ]
  },
  {
   "cell_type": "code",
   "execution_count": 18,
   "id": "312ffb0e",
   "metadata": {},
   "outputs": [
    {
     "data": {
      "text/plain": [
       "<AxesSubplot:>"
      ]
     },
     "execution_count": 18,
     "metadata": {},
     "output_type": "execute_result"
    },
    {
     "data": {
      "image/png": "[encoded data removed]",
      "text/plain": [
       "<Figure size 432x288 with 1 Axes>"
      ]
     },
     "metadata": {
      "needs_background": "light"
     },
     "output_type": "display_data"
    }
   ],
   "source": [
    "sns.heatmap(conf_m, square=True, annot=True, cmap='Blues', fmt='d', cbar=False)"
   ]
  },
  {
   "cell_type": "code",
   "execution_count": 19,
   "id": "7ee41e8e",
   "metadata": {},
   "outputs": [
    {
     "data": {
      "text/plain": [
       "<matplotlib.collections.PathCollection at 0x1e35ee94880>"
      ]
     },
     "execution_count": 19,
     "metadata": {},
     "output_type": "execute_result"
    },
    {
     "data": {
      "image/png": "[encoded data removed]",
      "text/plain": [
       "<Figure size 432x288 with 1 Axes>"
      ]
     },
     "metadata": {
      "needs_background": "light"
     },
     "output_type": "display_data"
    }
   ],
   "source": [
    "plt.scatter(data.Glucose,data.Outcome, marker = '+', color = 'red')"
   ]
  },
  {
   "cell_type": "code",
   "execution_count": 20,
   "id": "6c795562",
   "metadata": {},
   "outputs": [],
   "source": [
    "x=data['Glucose']\n",
    "y=data['Outcome']"
   ]
  },
  {
   "cell_type": "code",
   "execution_count": 21,
   "id": "1c625e91",
   "metadata": {},
   "outputs": [
    {
     "data": {
      "text/plain": [
       "<AxesSubplot:xlabel='Glucose', ylabel='Outcome'>"
      ]
     },
     "execution_count": 21,
     "metadata": {},
     "output_type": "execute_result"
    },
    {
     "data": {
      "image/png": "[encoded data removed]",
      "text/plain": [
       "<Figure size 432x288 with 1 Axes>"
      ]
     },
     "metadata": {
      "needs_background": "light"
     },
     "output_type": "display_data"
    }
   ],
   "source": [
    "sns.regplot(x=x, y=y, data=data, logistic=True, ci=None)"
   ]
  },
  {
   "cell_type": "code",
   "execution_count": 22,
   "id": "ce43d2fb",
   "metadata": {},
   "outputs": [],
   "source": [
    "from sklearn.model_selection import train_test_split"
   ]
  },
  {
   "cell_type": "code",
   "execution_count": 23,
   "id": "6af34b66",
   "metadata": {},
   "outputs": [],
   "source": [
    "X_train, X_test, y_train, y_test = train_test_split(df[['Glucose']], df.Outcome, train_size=0.9)"
   ]
  },
  {
   "cell_type": "code",
   "execution_count": 24,
   "id": "f7f5d729",
   "metadata": {},
   "outputs": [],
   "source": [
    "from sklearn.linear_model import LogisticRegression"
   ]
  },
  {
   "cell_type": "code",
   "execution_count": 25,
   "id": "f97569a6",
   "metadata": {},
   "outputs": [],
   "source": [
    "model = LogisticRegression()"
   ]
  },
  {
   "cell_type": "code",
   "execution_count": 26,
   "id": "92120263",
   "metadata": {},
   "outputs": [
    {
     "data": {
      "text/plain": [
       "LogisticRegression()"
      ]
     },
     "execution_count": 26,
     "metadata": {},
     "output_type": "execute_result"
    }
   ],
   "source": [
    "model.fit(X_train,y_train)"
   ]
  },
  {
   "cell_type": "code",
   "execution_count": 27,
   "id": "a6725c0b",
   "metadata": {},
   "outputs": [
    {
     "data": {
      "text/plain": [
       "array([0, 0, 0, 0, 1, 0, 0, 0, 0, 1, 1, 0, 0, 0, 0, 1, 1, 0, 0, 1, 0, 0,\n",
       "       0, 1, 0, 1, 0, 0, 0, 0, 0, 1, 0, 1, 0, 0, 0, 0, 0, 0, 1, 0, 0, 1,\n",
       "       0, 0, 1, 0, 0, 0, 0, 1, 0, 1, 1, 0, 0, 0, 0, 1, 0, 1, 1, 0, 1, 0,\n",
       "       0, 1, 1, 1, 0, 0, 0, 0, 0, 0, 0], dtype=int64)"
      ]
     },
     "execution_count": 27,
     "metadata": {},
     "output_type": "execute_result"
    }
   ],
   "source": [
    "model.predict(X_test)"
   ]
  },
  {
   "cell_type": "code",
   "execution_count": 28,
   "id": "75cb9403",
   "metadata": {},
   "outputs": [
    {
     "name": "stdout",
     "output_type": "stream",
     "text": [
      "Cross-validation scores:[0.68571429 0.7826087  0.8115942  0.76811594 0.79710145 0.7826087\n",
      " 0.71014493 0.72463768 0.69565217 0.73913043]\n",
      "Average cross-validation score: 0.7497\n"
     ]
    }
   ],
   "source": [
    "from sklearn.model_selection import cross_val_score\n",
    "\n",
    "scores = cross_val_score(model, X_train, y_train, cv = 10, scoring='accuracy')\n",
    "\n",
    "print('Cross-validation scores:{}'.format(scores))\n",
    "print('Average cross-validation score: {:.4f}'.format(scores.mean()))"
   ]
  },
  {
   "cell_type": "code",
   "execution_count": 29,
   "id": "d2ca5406",
   "metadata": {},
   "outputs": [
    {
     "data": {
      "text/plain": [
       "0.7402597402597403"
      ]
     },
     "execution_count": 29,
     "metadata": {},
     "output_type": "execute_result"
    }
   ],
   "source": [
    "model.score(X_test,y_test)"
   ]
  },
  {
   "cell_type": "code",
   "execution_count": 30,
   "id": "e2768f5a",
   "metadata": {},
   "outputs": [
    {
     "data": {
      "text/plain": [
       "array([[0.73846142, 0.26153858],\n",
       "       [0.93690164, 0.06309836],\n",
       "       [0.78721225, 0.21278775],\n",
       "       [0.78067435, 0.21932565],\n",
       "       [0.17532278, 0.82467722],\n",
       "       [0.63986082, 0.36013918],\n",
       "       [0.66609301, 0.33390699],\n",
       "       [0.7309376 , 0.2690624 ],\n",
       "       [0.77399324, 0.22600676],\n",
       "       [0.18676654, 0.81323346],\n",
       "       [0.29067146, 0.70932854],\n",
       "       [0.77399324, 0.22600676],\n",
       "       [0.88896848, 0.11103152],\n",
       "       [0.85463538, 0.14536462],\n",
       "       [0.70756313, 0.29243687],\n",
       "       [0.45083815, 0.54916185],\n",
       "       [0.41297175, 0.58702825],\n",
       "       [0.85463538, 0.14536462],\n",
       "       [0.63986082, 0.36013918],\n",
       "       [0.10284559, 0.89715441],\n",
       "       [0.78721225, 0.21278775],\n",
       "       [0.76020318, 0.23979682],\n",
       "       [0.76020318, 0.23979682],\n",
       "       [0.11403293, 0.88596707],\n",
       "       [0.57555305, 0.42444695],\n",
       "       [0.25989119, 0.74010881],\n",
       "       [0.78067435, 0.21932565],\n",
       "       [0.7530957 , 0.2469043 ],\n",
       "       [0.79985802, 0.20014198],\n",
       "       [0.78067435, 0.21932565],\n",
       "       [0.77399324, 0.22600676],\n",
       "       [0.1809742 , 0.8190258 ],\n",
       "       [0.59429484, 0.40570516],\n",
       "       [0.47001595, 0.52998405],\n",
       "       [0.59429484, 0.40570516],\n",
       "       [0.7530957 , 0.2469043 ],\n",
       "       [0.84477901, 0.15522099],\n",
       "       [0.81775547, 0.18224453],\n",
       "       [0.76020318, 0.23979682],\n",
       "       [0.7530957 , 0.2469043 ],\n",
       "       [0.30684292, 0.69315708],\n",
       "       [0.51822465, 0.48177535],\n",
       "       [0.78721225, 0.21278775],\n",
       "       [0.26738477, 0.73261523],\n",
       "       [0.58495467, 0.41504533],\n",
       "       [0.88896848, 0.11103152],\n",
       "       [0.4604124 , 0.5395876 ],\n",
       "       [0.77399324, 0.22600676],\n",
       "       [0.80596621, 0.19403379],\n",
       "       [0.78721225, 0.21278775],\n",
       "       [0.68303859, 0.31696141],\n",
       "       [0.48928269, 0.51071731],\n",
       "       [0.73846142, 0.26153858],\n",
       "       [0.21135954, 0.78864046],\n",
       "       [0.27501413, 0.72498587],\n",
       "       [0.79985802, 0.20014198],\n",
       "       [0.92174314, 0.07825686],\n",
       "       [0.74584799, 0.25415201],\n",
       "       [0.62188472, 0.37811528],\n",
       "       [0.32350375, 0.67649625],\n",
       "       [0.81775547, 0.18224453],\n",
       "       [0.36709376, 0.63290624],\n",
       "       [0.3320087 , 0.6679913 ],\n",
       "       [0.57555305, 0.42444695],\n",
       "       [0.45083815, 0.54916185],\n",
       "       [0.7530957 , 0.2469043 ],\n",
       "       [0.92448268, 0.07551732],\n",
       "       [0.29869436, 0.70130564],\n",
       "       [0.49893161, 0.50106839],\n",
       "       [0.144306  , 0.855694  ],\n",
       "       [0.86844011, 0.13155989],\n",
       "       [0.88896848, 0.11103152],\n",
       "       [0.74584799, 0.25415201],\n",
       "       [0.61276586, 0.38723414],\n",
       "       [0.63986082, 0.36013918],\n",
       "       [0.57555305, 0.42444695],\n",
       "       [0.69951214, 0.30048786]])"
      ]
     },
     "execution_count": 30,
     "metadata": {},
     "output_type": "execute_result"
    }
   ],
   "source": [
    "model.predict_proba(X_test)"
   ]
  },
  {
   "cell_type": "code",
   "execution_count": 31,
   "id": "07a1f40c",
   "metadata": {},
   "outputs": [
    {
     "data": {
      "text/plain": [
       "<AxesSubplot:xlabel='Glucose', ylabel='Outcome'>"
      ]
     },
     "execution_count": 31,
     "metadata": {},
     "output_type": "execute_result"
    },
    {
     "data": {
      "image/png": "[encoded data removed]",
      "text/plain": [
       "<Figure size 432x288 with 1 Axes>"
      ]
     },
     "metadata": {
      "needs_background": "light"
     },
     "output_type": "display_data"
    }
   ],
   "source": [
    "sns.regplot(x=X_test, y=y_test, data=data, logistic=True, ci=None)"
   ]
  },
  {
   "cell_type": "code",
   "execution_count": 32,
   "id": "027bb284",
   "metadata": {},
   "outputs": [
    {
     "data": {
      "text/plain": [
       "array([[ 0.63994726,  0.84832379,  0.14964075, ...,  0.46849198,\n",
       "         1.4259954 ,  1.36589591],\n",
       "       [-0.84488505, -1.12339636, -0.16054575, ..., -0.36506078,\n",
       "        -0.19067191, -0.73212021],\n",
       "       [ 1.23388019,  1.94372388, -0.26394125, ...,  0.60439732,\n",
       "        -0.10558415,  1.36589591],\n",
       "       ...,\n",
       "       [ 0.3429808 ,  0.00330087,  0.14964075, ..., -0.68519336,\n",
       "        -0.27575966, -0.73212021],\n",
       "       [-0.84488505,  0.1597866 , -0.47073225, ..., -0.37110101,\n",
       "         1.17073215,  1.36589591],\n",
       "       [-0.84488505, -0.8730192 ,  0.04624525, ..., -0.47378505,\n",
       "        -0.87137393, -0.73212021]])"
      ]
     },
     "execution_count": 32,
     "metadata": {},
     "output_type": "execute_result"
    }
   ],
   "source": [
    "X = data.values\n",
    "# Data Normalization\n",
    "from sklearn.preprocessing import StandardScaler\n",
    "X_std = StandardScaler().fit_transform(X)\n",
    "X_std"
   ]
  },
  {
   "cell_type": "code",
   "execution_count": 33,
   "id": "634d6c36",
   "metadata": {},
   "outputs": [],
   "source": [
    "from sklearn.decomposition import PCA\n",
    "pca = PCA(n_components=2)\n",
    "x_2d = pca.fit_transform(X_std)"
   ]
  },
  {
   "cell_type": "code",
   "execution_count": 34,
   "id": "c376313b",
   "metadata": {},
   "outputs": [
    {
     "data": {
      "image/png": "[encoded data removed]",
      "text/plain": [
       "<Figure size 648x504 with 1 Axes>"
      ]
     },
     "metadata": {
      "needs_background": "light"
     },
     "output_type": "display_data"
    }
   ],
   "source": [
    "\n",
    "\n",
    "plt.figure(figsize = (9,7))\n",
    "plt.scatter(x_2d[:,0],x_2d[:,1], c='goldenrod',alpha=0.5)\n",
    "plt.ylim(-10,30)\n",
    "plt.show()\n",
    "\n"
   ]
  },
  {
   "cell_type": "code",
   "execution_count": 35,
   "id": "9b83dd98",
   "metadata": {},
   "outputs": [
    {
     "data": {
      "image/png": "[encoded data removed]",
      "text/plain": [
       "<Figure size 504x504 with 1 Axes>"
      ]
     },
     "metadata": {
      "needs_background": "light"
     },
     "output_type": "display_data"
    }
   ],
   "source": [
    "\n",
    "\n",
    "from sklearn.cluster import KMeans\n",
    "# Set a 3 KMeans clustering\n",
    "kmeans = KMeans(n_clusters=2)\n",
    "# Compute cluster centers and predict cluster indices\n",
    "X_clustered = kmeans.fit_predict(x_2d)\n",
    "\n",
    "# Define our own color map\n",
    "LABEL_COLOR_MAP = {0 : 'r',1 : 'b'}\n",
    "label_color = [LABEL_COLOR_MAP[l] for l in X_clustered]\n",
    "\n",
    "# Plot the scatter digram\n",
    "plt.figure(figsize = (7,7))\n",
    "plt.scatter(x_2d[:,0],x_2d[:,1], c= label_color, alpha=0.4) \n",
    "plt.show()\n",
    "\n"
   ]
  },
  {
   "cell_type": "code",
   "execution_count": 36,
   "id": "c5934bbb",
   "metadata": {},
   "outputs": [
    {
     "data": {
      "text/plain": [
       "Pregnancies                 0\n",
       "Glucose                     0\n",
       "BloodPressure               0\n",
       "SkinThickness               0\n",
       "Insulin                     0\n",
       "BMI                         0\n",
       "DiabetesPedigreeFunction    0\n",
       "Age                         0\n",
       "Outcome                     0\n",
       "dtype: int64"
      ]
     },
     "execution_count": 36,
     "metadata": {},
     "output_type": "execute_result"
    }
   ],
   "source": [
    "data.isnull().sum()"
   ]
  },
  {
   "cell_type": "code",
   "execution_count": 37,
   "id": "fa3fb993",
   "metadata": {},
   "outputs": [],
   "source": [
    "X = data.drop(['Outcome'], axis=1)\n",
    "\n",
    "y = data['Outcome']"
   ]
  },
  {
   "cell_type": "code",
   "execution_count": 38,
   "id": "1561a7f4",
   "metadata": {},
   "outputs": [],
   "source": [
    "\n",
    "from sklearn.model_selection import train_test_split\n",
    "\n",
    "X_train, X_test, y_train, y_test = train_test_split(X, y, test_size = 0.2, random_state = 0)"
   ]
  },
  {
   "cell_type": "code",
   "execution_count": 39,
   "id": "186aeed0",
   "metadata": {},
   "outputs": [
    {
     "data": {
      "text/plain": [
       "((614, 8), (154, 8))"
      ]
     },
     "execution_count": 39,
     "metadata": {},
     "output_type": "execute_result"
    }
   ],
   "source": [
    "\n",
    "X_train.shape, X_test.shape"
   ]
  },
  {
   "cell_type": "code",
   "execution_count": 40,
   "id": "7f94eadb",
   "metadata": {},
   "outputs": [
    {
     "data": {
      "text/plain": [
       "GaussianNB()"
      ]
     },
     "execution_count": 40,
     "metadata": {},
     "output_type": "execute_result"
    }
   ],
   "source": [
    "from sklearn.naive_bayes import GaussianNB\n",
    "\n",
    "\n",
    "# instantiate the model\n",
    "gnb = GaussianNB()\n",
    "\n",
    "\n",
    "# fit the model\n",
    "gnb.fit(X_train, y_train)"
   ]
  },
  {
   "cell_type": "code",
   "execution_count": 41,
   "id": "5c4fc126",
   "metadata": {},
   "outputs": [
    {
     "data": {
      "text/plain": [
       "array([1, 0, 1, 0, 1, 1, 1, 1, 0, 0, 1, 0, 0, 0, 0, 0, 0, 0, 0, 0, 0, 0,\n",
       "       0, 0, 0, 0, 0, 1, 0, 1, 0, 0, 1, 0, 0, 0, 0, 0, 0, 0, 0, 1, 1, 1,\n",
       "       0, 0, 0, 0, 0, 0, 0, 0, 0, 0, 0, 0, 0, 0, 0, 0, 0, 0, 1, 0, 0, 0,\n",
       "       0, 0, 1, 1, 1, 1, 0, 0, 0, 0, 0, 1, 0, 0, 1, 0, 0, 1, 0, 1, 1, 0,\n",
       "       0, 0, 0, 1, 0, 1, 0, 1, 0, 1, 0, 0, 0, 1, 0, 1, 0, 0, 0, 0, 0, 0,\n",
       "       1, 0, 0, 1, 0, 0, 0, 0, 0, 0, 0, 0, 0, 0, 0, 0, 0, 0, 0, 0, 0, 0,\n",
       "       0, 0, 0, 1, 1, 0, 0, 1, 0, 1, 1, 0, 0, 1, 0, 0, 0, 0, 1, 1, 0, 0,\n",
       "       0, 0, 0, 0, 1, 1, 0, 0, 0, 0, 1, 0, 0, 0, 0, 0, 0, 1, 1, 0, 0, 1,\n",
       "       1, 1, 1, 0, 0, 0, 0, 0, 1, 0, 1, 0, 0, 1, 1, 0, 0, 1, 1, 1, 0, 1,\n",
       "       0, 0, 0, 1, 1, 0, 0, 0, 1, 1, 1, 0, 1, 0, 1, 0, 0, 1, 0, 0, 0, 1,\n",
       "       0, 1, 0, 0, 0, 1, 1, 0, 0, 1, 1, 0, 1, 0, 1, 0, 0, 0, 1, 0, 1, 0,\n",
       "       0, 0, 1, 0, 1, 1, 0, 1, 1, 0, 0, 0, 1, 0, 0, 1, 0, 1, 0, 0, 0, 1,\n",
       "       1, 0, 1, 0, 1, 0, 0, 0, 0, 1, 0, 0, 0, 1, 0, 0, 1, 0, 1, 0, 0, 1,\n",
       "       0, 0, 1, 0, 1, 1, 0, 0, 0, 1, 0, 0, 0, 1, 0, 0, 1, 0, 1, 0, 0, 0,\n",
       "       1, 0, 1, 1, 0, 1, 1, 0, 0, 0, 1, 0, 0, 1, 0, 1, 0, 0, 0, 0, 1, 1,\n",
       "       0, 0, 1, 1, 0, 1, 1, 0, 1, 0, 0, 0, 1, 0, 1, 0, 1, 0, 1, 0, 0, 0,\n",
       "       0, 1, 1, 1, 0, 0, 0, 0, 0, 0, 1, 0, 0, 0, 0, 0, 0, 1, 0, 0, 0, 0,\n",
       "       1, 0, 0, 0, 0, 1, 0, 1, 0, 0, 0, 0, 1, 1, 0, 0, 0, 0, 0, 0, 1, 1,\n",
       "       0, 0, 0, 0, 0, 1, 0, 0, 0, 0, 1, 0, 0, 1, 0, 0, 0, 0, 0, 1, 0, 1,\n",
       "       0, 1, 0, 0, 0, 1, 0, 0, 0, 1, 0, 1, 1, 0, 0, 0, 0, 1, 0, 1, 0, 0,\n",
       "       1, 0, 0, 1, 0, 1, 1, 0, 0, 0, 1, 1, 1, 0, 1, 0, 1, 0, 1, 0, 0, 1,\n",
       "       0, 1, 1, 0, 1, 0, 0, 0, 0, 0, 1, 0, 0, 0, 0, 0, 1, 0, 0, 0, 0, 0,\n",
       "       1, 1, 0, 0, 0, 0, 0, 0, 1, 1, 1, 1, 1, 1, 0, 0, 1, 1, 1, 0, 1, 0,\n",
       "       0, 1, 0, 0, 0, 1, 0, 0, 0, 0, 0, 0, 1, 1, 0, 1, 0, 1, 0, 1, 0, 0,\n",
       "       0, 0, 0, 1, 1, 0, 0, 1, 0, 0, 0, 0, 1, 0, 0, 1, 0, 0, 0, 0, 0, 0,\n",
       "       1, 0, 0, 0, 0, 0, 0, 1, 1, 0, 0, 0, 1, 0, 0, 1, 0, 1, 0, 1, 0, 0,\n",
       "       0, 0, 0, 0, 0, 0, 0, 0, 1, 0, 1, 1, 0, 0, 0, 1, 1, 0, 0, 1, 0, 0,\n",
       "       0, 1, 0, 1, 0, 0, 0, 0, 0, 1, 0, 0, 0, 1, 0, 1, 1, 0, 0, 0],\n",
       "      dtype=int64)"
      ]
     },
     "execution_count": 41,
     "metadata": {},
     "output_type": "execute_result"
    }
   ],
   "source": [
    "from sklearn.metrics import accuracy_score\n",
    "\n",
    "\n",
    "y_pred_train = gnb.predict(X_train)\n",
    "\n",
    "y_pred_train\n",
    "\n"
   ]
  },
  {
   "cell_type": "code",
   "execution_count": 42,
   "id": "6605917c",
   "metadata": {},
   "outputs": [
    {
     "name": "stdout",
     "output_type": "stream",
     "text": [
      "Training-set accuracy score: 0.7573\n"
     ]
    }
   ],
   "source": [
    "print('Training-set accuracy score: {0:0.4f}'. format(accuracy_score(y_train, y_pred_train)))"
   ]
  },
  {
   "cell_type": "code",
   "execution_count": 43,
   "id": "5879b290",
   "metadata": {},
   "outputs": [
    {
     "name": "stdout",
     "output_type": "stream",
     "text": [
      "Cross-validation scores:[0.72580645 0.70967742 0.75806452 0.77419355 0.68852459 0.85245902\n",
      " 0.78688525 0.63934426 0.75409836 0.73770492]\n"
     ]
    }
   ],
   "source": [
    "from sklearn.model_selection import cross_val_score\n",
    "\n",
    "scores = cross_val_score(gnb, X_train, y_train, cv = 10, scoring='accuracy')\n",
    "\n",
    "print('Cross-validation scores:{}'.format(scores))"
   ]
  },
  {
   "cell_type": "code",
   "execution_count": 44,
   "id": "a7692ee2",
   "metadata": {},
   "outputs": [
    {
     "name": "stdout",
     "output_type": "stream",
     "text": [
      "Average cross-validation score: 0.7427\n"
     ]
    }
   ],
   "source": [
    "\n",
    "print('Average cross-validation score: {:.4f}'.format(scores.mean()))"
   ]
  },
  {
   "cell_type": "code",
   "execution_count": 45,
   "id": "3c2ce56f",
   "metadata": {},
   "outputs": [],
   "source": [
    "conf_m = confusion_matrix(y_train,y_pred_train)\n"
   ]
  },
  {
   "cell_type": "code",
   "execution_count": 47,
   "id": "1336d864",
   "metadata": {},
   "outputs": [
    {
     "data": {
      "text/plain": [
       "<AxesSubplot:>"
      ]
     },
     "execution_count": 47,
     "metadata": {},
     "output_type": "execute_result"
    },
    {
     "data": {
      "image/png": "[encoded data removed]",
      "text/plain": [
       "<Figure size 432x288 with 1 Axes>"
      ]
     },
     "metadata": {
      "needs_background": "light"
     },
     "output_type": "display_data"
    }
   ],
   "source": [
    "sns.heatmap(conf_m, square=True, annot=True, cmap='Purples', fmt='d', cbar=False)"
   ]
  },
  {
   "cell_type": "code",
   "execution_count": null,
   "id": "18fa31ce",
   "metadata": {},
   "outputs": [],
   "source": [
    "\n"
   ]
  }
 ],
 "metadata": {
  "kernelspec": {
   "display_name": "Python 3 (ipykernel)",
   "language": "python",
   "name": "python3"
  },
  "language_info": {
   "codemirror_mode": {
    "name": "ipython",
    "version": 3
   },
   "file_extension": ".py",
   "mimetype": "text/x-python",
   "name": "python",
   "nbconvert_exporter": "python",
   "pygments_lexer": "ipython3",
   "version": "3.9.12"
  }
 },
 "nbformat": 4,
 "nbformat_minor": 5
}
